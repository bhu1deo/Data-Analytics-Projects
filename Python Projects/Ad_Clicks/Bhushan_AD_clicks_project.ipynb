{
 "cells": [
  {
   "cell_type": "markdown",
   "id": "c5932701",
   "metadata": {},
   "source": [
    "### Details:\n",
    "\n",
    "- The data at our disposal is of an advertisement run by a food chain company. The ad-owner wants to find out whether a particular color for the Ad is better in terms of 'click-rates' as compared to all other colors. \n",
    "- The experiment is run for 20 days and every color is given equal views on each day, and the click counts are collated. \n",
    "- The comparison will be run pairwise. One option to compare between colors A and B, is to count the number of days for which A outnumbers B (in terms of number of number of clicks). Counting these number of days will help us determine which color has best ad-click rate performance. The problem with this approach, is that the results could arise purely by chance. Unless we carry out numerous experiments (across many many days), we cannot be sure of the result being statistically significant. \n",
    "- Another option is to work with mean ad-click counts. For every color, across 20 days, find the average ad-click count. Under the NULL hypothesis, assume that the means originate from the same population density (or the samples themselves originate from the same population density, and hence the means are not statistically different). Then using an appropriate test statistic, we can test the hypothesis. \n",
    "- The problem with the above approach is that the population variance is unknown. We carry out three approaches present in testing literature:\n",
    " - Permutation test: A pair of two colors each having count values for 30 days is available. We compute the difference in their means. Then we group the samples together in a single set, shuffle it and re-distribute, maintaining the size. After every such iteration, we compute the mean difference. Lastly we check the p-value for the original sample mean difference from the fitted distribution of sample means.\n",
    " - Law of Large Numbers: We use LLN to again estimate the p-value of the original sample mean difference from the distribution of sample means.\n",
    " - t-Test: This is a case of comparing two sets of samples with unknown population variance. We assume that the samples originate from a random normal distribution with the same variance (but maybe different means), and find the p-value based on a Student's t distibution with n1+n2-1 degrees of freedom. "
   ]
  },
  {
   "cell_type": "markdown",
   "id": "c0d7c859",
   "metadata": {},
   "source": [
    "### Steps\n",
    "\n",
    "We will import the ad-click data.\n",
    "\n",
    "The aim is to ascertain whether statistical significance exists between samples of two colors.\n",
    "\n",
    "This is a comparison test with samples of two classes, but population mean and std deviation are unknown.\n",
    "\n",
    "We can run a permutation test and also some other metric test.\n",
    "\n",
    "But note that some correction such as the Bonferroni correction should be incorporated as we are comparing multiple color data. This is because, when the experiment is conducted repeatedly, then sooner or later, we are bound to get extreme observations (p-value hacking or data dredging). \n",
    "\n",
    "Finally, if we get the NULL hypothesis to hold (that is all the ad-clicks for different colors) originate from the same population distribution, then we compute the sample means for each of the colors (except Blue) and fit a population density.\n",
    "Then we check whether Blue ad-clicks p-value gives an indication of any deviation from the population density. \n"
   ]
  },
  {
   "cell_type": "markdown",
   "id": "3a1cf854",
   "metadata": {},
   "source": [
    "#### NULL hypothesis testing examples:\n",
    "\n",
    "- Suppose, we want to test the efficacy of a drug A for a disease. We choose a number N (say 200) of patients to administer the drug. We administer drug A to N/2 (100) patients and a placebo (which has no effect) on the rest. The NULL hypothesis states that there is no statistically significant difference between the effects of the two. The ALTERNATE hypothesis states that drug A really works and has a considerable effect to mitigate the disease. \n",
    "- Suppose, we have sampled a set of class V grades from a random school in Mumbai. This school is known to have produced great intellectuals. We also have at our disposal, the national class V grades population distribution. The NULL hypothesis states that the sampled set of class V grades arise from the population itself. The ALTERNATE hypothesis states that the sampled set of class V grades arise from a distribution which has a mean greater than that of the population density. \n",
    "- Suppose, we have a number of balls (say 100) of 5 different colors in a bag. The exact count of the number of distinct colors is known (5), but the number of balls of each color is unknown. Suppose we draw 50 balls and then note their colors, replace them in the bag and repeat this experiment. We carry out this experiment 100 times. The NULL hypothesis assumes the set of 100 counts for each color is NOT statistically different from any other color. The ALTERNATE hypothesis assumes that there is a particular color which has a set of counts which is statistically different from any other color. This means there exists a color in the bag which significantly outnumbers rest of the colors. \n"
   ]
  },
  {
   "cell_type": "markdown",
   "id": "c0ba02bd",
   "metadata": {},
   "source": [
    "### Statistical Hypothesis testing theory:\n",
    "\n",
    "#### Check https://web.williams.edu/Mathematics/sjmiller/public_html/BrownClasses/162/Handouts/StatsTests04.pdf\n",
    "Once the data is collected, tests of hypotheses follow the following steps:\n",
    "1. Using the sampling distribution of an appropriate test statistic, determine a critical region of\n",
    "size α.\n",
    "2. Determine the value of the test statistic from the sample data.\n",
    "3. Check whether the value of the test statistic falls within the critical region; if yes, we reject\n",
    "the null in favor of the alternative hypothesis, and if no, we fail to reject the null hypothesis.\n",
    "\n",
    "- Sampling Distribution\n",
    "- Test statistic\n",
    "- Choosing α and determing the region in the curve\n",
    "- Computing the test statistic from the observed data\n",
    "- Comparing the test statistic with the critical region, accepting/rejecting the NULL hypothesis\n",
    "\n",
    "\n",
    "Statistic: A statistic is any function on data which returns a single value.\n",
    "\n",
    "Hypothesis: We generally deal with two type of hypothesis: NULL hypothesis and ALTERNATE hypothesis. The NULL hypothesis says that there is no statistical significant difference in the observed data from the population. The ALTERNATE hypothesis maybe formulated to confirm a theory.\n",
    "\n",
    "Central Limit Theorem: The distribution of sample means approximately follows a normal distribution if the sample size is large. If the population distribution is itself normally distributed, then the sample mean follows a Normal distribution irrespective of the number of samples used to compute it. Else the Central Limit theorem holds for large number of samples.  \n",
    "\n",
    "Law of Large Numbers: The relative frequency of observations will approximate the true underlying probability of occurrence, if the number of tests carried out are large.  \n",
    "\n",
    "- Testing Means I: Large Sample Size or Known Variance: \n",
    "\n",
    " - Assuming population variance is known: Construct z = X-u/s/sqrt(n), Here X is the sample mean, u is population mean, s is the population standard deviation. n is the number of samples used to compute the mean\n",
    "   - Choose a α value and then check the test statistic value lies beyond the region marked by α. The test can be two-sided or single sided. z.05 = 1.645, z.01 = 2.33,z.025 = 1.96 and z.005 = 2.575, when the underlying sitribution is normal.\n",
    "  - If the population variance is not known but n is large(we have large number of samples): \n",
    "   - If n is large:\n",
    "       Unbiased estimator of sample population variance works well. The point is that for n large, s\n",
    "2\n",
    "is a good approximation to the\n",
    "unknown population variance σ\n",
    "2\n",
    "  - Comparing two different samples of two different groups: The NULL hypothesis usually will state that the two samples originate from the same underlying population density. Again an appropriate test stat can be devised to fail/reject the NULL hypothesis. \n",
    "  \n",
    "  \n",
    "- Testing Means II: Small Sample Size and Unknown Variance: **Unfortunately, z-tests require one of two conditions: either the population is normally distributed\n",
    "with a known variance, or the sample size is large.** For many applications the underlying distribution\n",
    "is approximately normal or the sample size is large, so often these conditions are met. There are\n",
    "times, however, when the sample sizes are not large. This is true when it is expensive to get sample\n",
    "points, which is often the case in the psychology studies (among many other situations).\n",
    " - Test statistic in this case is the Student's - distibution with n-1 degrees of freedom.\n",
    " - The key assumption is that the samples originate from a Normal distribution. The sample variance is estimated from the samples themselves. \n",
    " - The test statistic needs to be computed and compared with key values to reject the NULL hypothesis. \n",
    " - We can again test two samples, when the population variance is unknown, here the assumption is that both of the samples originate from normal distributions and share the same variance. This test statistic will then have a t-distribution\n",
    "with n1 + n2 − 2 degrees of freedom. If both our samples are large enough in size, then we can find the unbiased variance estimators for each of those samples and then combine the two variances of the groups to estimate the population variance. \n",
    " "
   ]
  },
  {
   "cell_type": "code",
   "execution_count": 51,
   "id": "34282e99",
   "metadata": {},
   "outputs": [],
   "source": [
    "import seaborn as sns\n",
    "import pandas as pd\n",
    "import numpy as np\n",
    "from matplotlib import pyplot as plt\n",
    "from scipy import stats\n",
    "from scipy.stats import t as students_t_dist"
   ]
  },
  {
   "cell_type": "code",
   "execution_count": 12,
   "id": "fbe2b1fb",
   "metadata": {},
   "outputs": [
    {
     "name": "stdout",
     "output_type": "stream",
     "text": [
      "Color  Pink  Gray  Sapphire  Purple  Coral  Olive  Navy  Maroon  Teal  Cyan  \\\n",
      "1        21    27        30      26     26     26    38      21    25    24   \n",
      "2        20    27        32      21     24     19    29      29    25    22   \n",
      "3        14    26        30      16     25     20    30      24    32    34   \n",
      "4        30    17        26      17     27     23    32      22    28    23   \n",
      "5        12    29        32      23     36     27    29      22    25    23   \n",
      "6        23    27        29      17     30     11    22      23    24    31   \n",
      "7        26    19        21      21     36     24    29      22    31    28   \n",
      "8        21    21        26      30     31     18    30      16    28    31   \n",
      "9        16    28        28      15     31     22    25      26    29    26   \n",
      "10       21    24        27      26     26     29    23      26    27    25   \n",
      "11       21    23        33      17     37     26    26      17    33    27   \n",
      "12       16    21        22      20     25     24    30      24    28    28   \n",
      "13       30    18        27      24     21     15    27      19    29    35   \n",
      "14       24    18        29      19     23     17    23      29    39    16   \n",
      "15       17    18        38      24     20     10    29      22    26    30   \n",
      "16       23    25        33      22     26     16    37      21    35    29   \n",
      "17       15    21        30      20     21     21    30      22    23    26   \n",
      "18       22    27        30      26     22     23    25      32    26    33   \n",
      "19       19    25        30      25     26     26    31      25    32    37   \n",
      "20       20    24        25      33     25     26    41      20    24    33   \n",
      "\n",
      "Color  ...  Ultramarine  Yellow  Virdian  Violet  Green  Aquamarine  Magenta  \\\n",
      "1      ...           49      14       27      15     14          24       18   \n",
      "2      ...           41      24       23      22     25          28       21   \n",
      "3      ...           24      20       24      22     29          25       23   \n",
      "4      ...           36      17       22      20     30          35       19   \n",
      "5      ...           34      18       22      26     26          31       21   \n",
      "6      ...           31      26       23      14     23          37       23   \n",
      "7      ...           31      25       27      24     22          27       18   \n",
      "8      ...           36      24       25      21     31          31       22   \n",
      "9      ...           44      22       19      19     23          30       16   \n",
      "10     ...           35      22       18      20     17          30       31   \n",
      "11     ...           30      15       23      28     30          27       17   \n",
      "12     ...           29      17       23      20     31          31       24   \n",
      "13     ...           28      21       27      29     30          35       27   \n",
      "14     ...           28      17       15      18     29          32       17   \n",
      "15     ...           38      31       21      18     16          34       16   \n",
      "16     ...           30      26       23      16     32          38       23   \n",
      "17     ...           31      24       24      30     32          23       17   \n",
      "18     ...           34      20       19      16     26          12       23   \n",
      "19     ...           40      26       24      32     23          26       26   \n",
      "20     ...           35      22       29      21     26          28       21   \n",
      "\n",
      "Color  Silver  Bronze  Lime  \n",
      "1          26      19    20  \n",
      "2          24      19    19  \n",
      "3          18      27    22  \n",
      "4          32      18    26  \n",
      "5          32      19    29  \n",
      "6          23      22    27  \n",
      "7          16      27    20  \n",
      "8          14      13    20  \n",
      "9          19      23    29  \n",
      "10         16      30    16  \n",
      "11         18      31    19  \n",
      "12         20      16    15  \n",
      "13         23      14    16  \n",
      "14         22      16    24  \n",
      "15         18      26    25  \n",
      "16         21      18    21  \n",
      "17         20      15    19  \n",
      "18         27      22    17  \n",
      "19         16      24    22  \n",
      "20         20      18    18  \n",
      "\n",
      "[20 rows x 30 columns]\n"
     ]
    }
   ],
   "source": [
    "def load_process_data(df_path):\n",
    "    \"\"\" Carry out some basic data loading and pre-processing operations \"\"\"\n",
    "    # Load data into pandas datafram\n",
    "    # Process data required for the context\n",
    "    df = pd.read_csv(df_path)\n",
    "#     print(df)\n",
    "    \n",
    "    # drop unnecessary columns\n",
    "    view_columns = [column for column in df.columns if 'View' in column]\n",
    "    df.drop(columns=view_columns, inplace=True)\n",
    "    \n",
    "    # set row indices and rename verbose columns\n",
    "    df.set_index('Color', inplace=True)\n",
    "    column_dict = {s:s.split()[-1] for s in df.columns}    # just the day number and the color \n",
    "    df.rename(columns=column_dict,inplace=True)\n",
    "    \n",
    "    # Let's transpose the dataframe and return it, will help us later\n",
    "    return df.T\n",
    "#     print(df.shape,df.head())\n",
    "    \n",
    "data_path = 'colored_ad_click_table.csv'\n",
    "data_frame = load_process_data(data_path)\n",
    "print(data_frame)\n"
   ]
  },
  {
   "cell_type": "code",
   "execution_count": 35,
   "id": "c5aaebec",
   "metadata": {},
   "outputs": [],
   "source": [
    "def permutation_test_p_values(data_frame,color1,color2):\n",
    "    \"\"\" Compute the p-values between two pair of colors, both the distribution method and the LLN method \n",
    "    Bonferroni correction, if applicable should be applied later \"\"\"\n",
    "    # difference of means distribution \n",
    "    # p-values are computed using: Law of large numbers, directly from the distribution, fitting a normal distribution is not \n",
    "    # an option here, as the bootstrap sample mean distribution is not normal\n",
    "    \n",
    "    # Mean difference in the original dataset:\n",
    "    sample_mean_1 = data_frame[color1].values.mean()\n",
    "    sample_mean_2 = data_frame[color2].values.mean()\n",
    "    \n",
    "    mean_diff = abs(sample_mean_1-sample_mean_2)\n",
    "    \n",
    "    \n",
    "    \n",
    "    # Now pool the data\n",
    "    pooled_data = np.hstack([data_frame[color1].values, data_frame[color2].values])\n",
    "    \n",
    "    # Now get bootstrap samples and then the sample means difference\n",
    "    sample_mean_difference = []\n",
    "\n",
    "    \n",
    "    size_1 = data_frame[color1].values.size\n",
    "\n",
    "    num_tests = 1000000            # LAw of large numbers will hold \n",
    "    for _ in range(num_tests):\n",
    "        np.random.shuffle(pooled_data)\n",
    "        sample_a = pooled_data[:size_1]\n",
    "        sample_b = pooled_data[size_1:]\n",
    "        sample_mean_difference.append(sample_a.mean()-sample_b.mean())\n",
    "    \n",
    "    # Now fit a distribution to the difference of sample means:\n",
    "    likelihoods, bin_edges = np.histogram(sample_mean_difference, bins='auto', density=True)\n",
    "    \n",
    "    random_variable = stats.rv_histogram((likelihoods, bin_edges))  \n",
    "    \n",
    "    p_value_distribution = random_variable.sf(mean_diff) + random_variable.cdf(-mean_diff)     # Two sided p-value computation carried out here \n",
    "    \n",
    "    p_value_lln = ((sample_mean_difference>mean_diff).sum() + (sample_mean_difference+mean_diff<0).sum())/num_tests\n",
    "    # Above is quick way to count number of values in a numpy array satisfying a given condition, boolean array sum counts the number of occurrences \n",
    "    \n",
    "    return p_value_distribution, p_value_lln\n",
    "\n",
    "    \n",
    "# permutation_test_p_values(data_frame,'Blue','Pink')"
   ]
  },
  {
   "cell_type": "code",
   "execution_count": 14,
   "id": "f3c8314c",
   "metadata": {},
   "outputs": [],
   "source": [
    "def t_test_p_values(data_frame,color1,color2):\n",
    "    \"\"\" Compute the p-values by t-test \n",
    "    Bonferroni correction, if applicable should be applied later \"\"\"\n",
    "    # Case of insufficient sample size and population parameters unkown\n",
    "    # Hence t test is used to compare the two samples\n",
    "    \n",
    "    \n",
    "    # compute the mean difference: \n",
    "    sample_mean_1 = data_frame[color1].values.mean()\n",
    "    sample_mean_2 = data_frame[color2].values.mean()\n",
    "    \n",
    "    mean_diff = sample_mean_1-sample_mean_2\n",
    "    \n",
    "    # compute the two variances:\n",
    "    var_1 = data_frame[color1].values.var()\n",
    "    var_2 = data_frame[color2].values.var()\n",
    "    \n",
    "    # compute the length of the two arrays:\n",
    "    n1 = data_frame[color1].values.size\n",
    "    n2 = data_frame[color2].values.size\n",
    "    \n",
    "    s_p = (((n1-1)*var_1+(n2-1)*var_2)/(n1+n2-2))**0.5\n",
    "    \n",
    "    # Compute the statistic:\n",
    "    \n",
    "    t = mean_diff/(s_p*((1/n1+1/n2)**0.5))\n",
    "    \n",
    "    p_value_t_test = students_t_dist.cdf(x=-abs(t),df=n1+n2-2)+students_t_dist.sf(x=abs(t),df=n1+n2-2)\n",
    "    \n",
    "    return p_value_t_test\n",
    "    \n",
    "    \n",
    "    \n",
    "# print(t_test_p_values(data_frame,'Blue','Black'))\n",
    "    "
   ]
  },
  {
   "cell_type": "code",
   "execution_count": 15,
   "id": "c24477e8",
   "metadata": {},
   "outputs": [
    {
     "name": "stdout",
     "output_type": "stream",
     "text": [
      "{'Pink': 1.8125015792911832e-05, 'Gray': 0.0012548408263289479, 'Sapphire': 0.7106899215288932, 'Purple': 0.00033303945780626635, 'Coral': 0.37964633998849884, 'Olive': 0.00010934722825197996, 'Navy': 0.5601276529486233, 'Maroon': 0.0010427844201017715, 'Teal': 0.9472404823801849, 'Cyan': 0.8559377699195604, 'Orange': 0.00015680750439094561, 'Black': 5.749637216503434e-05, 'Tan': 0.0002605651239977705, 'Red': 6.616595719088664e-05, 'Brown': 0.00039582145454504817, 'Turquoise': 0.843647952211723, 'Indigo': 0.00035252403856104493, 'Gold': 0.0010620951775447117, 'Jade': 0.0001588019164304353, 'Ultramarine': 0.00217539659362375, 'Yellow': 7.247383389807949e-05, 'Virdian': 0.00041168905691053804, 'Violet': 0.00018637752718193956, 'Green': 0.13022393831817725, 'Aquamarine': 0.6297845481612296, 'Magenta': 2.1108949092880982e-05, 'Silver': 9.077212703101864e-05, 'Bronze': 6.013650456056467e-05, 'Lime': 3.117585215364866e-05}\n"
     ]
    }
   ],
   "source": [
    "def create_p_value_dict(dataframe):\n",
    "    return {k:t_test_p_values(dataframe,'Blue',k) for k in dataframe.columns.values if k!='Blue'}\n",
    "\n",
    "print(create_p_value_dict(data_frame))"
   ]
  },
  {
   "cell_type": "code",
   "execution_count": 16,
   "id": "4080a62d",
   "metadata": {},
   "outputs": [
    {
     "data": {
      "image/png": "[encoded data removed]",
      "text/plain": [
       "<Figure size 216x720 with 2 Axes>"
      ]
     },
     "metadata": {
      "needs_background": "light"
     },
     "output_type": "display_data"
    }
   ],
   "source": [
    "def plot_color_data(p_value_dict):\n",
    "    \n",
    "    sorted_colors, sorted_p_values = zip(*sorted(p_value_dict.items(), \n",
    "                                             key=lambda x: x[1]))\n",
    "    \n",
    "    plt.figure(figsize=(3, 10))\n",
    "    sns.heatmap([[p_value] for p_value in sorted_p_values], cmap='YlGnBu',\n",
    "                annot=True, xticklabels=['p-value'],\n",
    "                yticklabels=sorted_colors)\n",
    "    plt.show()\n",
    "\n",
    "plot_color_data(create_p_value_dict(data_frame))\n",
    "\n",
    "# We have created the dictionary and then plotted the heatmap"
   ]
  },
  {
   "cell_type": "code",
   "execution_count": 17,
   "id": "71718918",
   "metadata": {},
   "outputs": [],
   "source": [
    "def determine_stat_significant_results(dataframe,p_value_dict,alpha_value,bonferroni_correction=True):\n",
    "    \"\"\" We have the p-value comparisons with Blue\n",
    "    We firstly filter those colors which have their p-value below the threshold. \n",
    "    Then return those colors which have higher average ad-click rates.\n",
    "    \"\"\"\n",
    "    if(bonferroni_correction):\n",
    "        num_comparisons = len(p_value_dict)          # Number of comparisons carried out \n",
    "        threshold = alpha_value/num_comparisons\n",
    "    else:\n",
    "        threshold = alpha_value\n",
    "    \n",
    "    return_colors = lambda x,y: [k for k in y.keys() if(y[k]<threshold and x[k].values.mean()>x['Blue'].values.mean())]\n",
    "    \n",
    "    return return_colors(dataframe,p_value_dict)\n",
    "        \n",
    "# print(determine_stat_significant_results(data_frame,create_p_value_dict(data_frame),0.05,False))"
   ]
  },
  {
   "cell_type": "code",
   "execution_count": 18,
   "id": "02b34ae1",
   "metadata": {},
   "outputs": [
    {
     "data": {
      "image/png": "[encoded data removed]",
      "text/plain": [
       "<Figure size 216x720 with 2 Axes>"
      ]
     },
     "metadata": {
      "needs_background": "light"
     },
     "output_type": "display_data"
    },
    {
     "name": "stdout",
     "output_type": "stream",
     "text": [
      "Determining statistically significant results with Bonferroni correction:\n",
      "[]\n",
      "Determining statistically significant results without Bonferroni correction:\n",
      "['Ultramarine']\n"
     ]
    }
   ],
   "source": [
    "# End to end testing of the code: \n",
    "\n",
    "if __name__ == \"__main__\":\n",
    "    data_path = 'colored_ad_click_table.csv'\n",
    "    data_frame = load_process_data(data_path)\n",
    "    p_value_dict = create_p_value_dict(data_frame)\n",
    "    plot_color_data(p_value_dict)\n",
    "    print(\"Determining statistically significant results with Bonferroni correction:\")\n",
    "    print(determine_stat_significant_results(data_frame,p_value_dict,0.05,True))\n",
    "    print(\"Determining statistically significant results without Bonferroni correction:\")\n",
    "    print(determine_stat_significant_results(data_frame,p_value_dict,0.05,False))"
   ]
  },
  {
   "cell_type": "code",
   "execution_count": 50,
   "id": "4c06dc8c",
   "metadata": {},
   "outputs": [
    {
     "name": "stdout",
     "output_type": "stream",
     "text": [
      "The p-value of blue compared with other colors is: 0.23\n",
      "Hence Blue can arise from the same population density as that of the other colors.\n"
     ]
    }
   ],
   "source": [
    "# With the Bonferroni correction in place: we have established that no color is statistically significant than Blue\n",
    "# Let us fit a population density to all our sample counts except Blue\n",
    "\n",
    "def find_p_value_Blue(dataframe,color1,color2):\n",
    "    \n",
    "    # Fit a distribution to all the counts of colors (irrespective of color)\n",
    "    \n",
    "\n",
    "    df = dataframe.drop(columns=\"Blue\")\n",
    "    all_counts = df.values.ravel() \n",
    "    blue_mean = dataframe['Blue'].values.mean()     # Compare Blue mean with other colors \n",
    "    \n",
    "    \n",
    "    likelihoods, bin_edges = np.histogram(all_counts, bins='auto', density=True)\n",
    "    \n",
    "    random_variable = stats.rv_histogram((likelihoods, bin_edges))  \n",
    "        \n",
    "    p_value_distribution = random_variable.sf(blue_mean) + random_variable.cdf(-blue_mean)\n",
    "    \n",
    "    print(f\"The p-value of blue compared with other colors is: {p_value_distribution:0.2f}\")\n",
    "    print(\"Hence Blue can arise from the same population density as that of the other colors.\")\n",
    "    \n",
    "find_p_value_Blue(data_frame,'Blue','Black')"
   ]
  },
  {
   "cell_type": "markdown",
   "id": "1c32e81b",
   "metadata": {},
   "source": [
    "### Conclusions:\n",
    "\n",
    "- p-value computation was carried out using Permutation test (distribution method and law of large numbers), as well as t-test.\n",
    "- Both the methods gave very similar results, but the main benefit of the t-test is it's speed (sampling not required)\n",
    "- Colors were filtered to be statistically significant (rejection of the NULL hypothesis) based not only on the p-values buy also on the data means. Bonferroni correction should be applied in cases of data-dredging (p-hacking)\n",
    "- It is concluded that too many colors are present in the dataset in order to obtain statistically significant results\n",
    "- Low p-values can occur by chance when multiple tests are conducted\n",
    "- Without Bonferroni correction, only Ultramarine outperforms Blue\n",
    "- With Bonferroni correction, no color outperforms Blue\n",
    "- More \"One-On-One\" experiments should be carried out in order to determine the superiority of a color with respect to other\n",
    "- This is particularly True in \"Ultramarine\" vs \"Blue\" case. \n"
   ]
  }
 ],
 "metadata": {
  "kernelspec": {
   "display_name": "Python 3",
   "language": "python",
   "name": "python3"
  },
  "language_info": {
   "codemirror_mode": {
    "name": "ipython",
    "version": 3
   },
   "file_extension": ".py",
   "mimetype": "text/x-python",
   "name": "python",
   "nbconvert_exporter": "python",
   "pygments_lexer": "ipython3",
   "version": "3.8.8"
  }
 },
 "nbformat": 4,
 "nbformat_minor": 5
}
